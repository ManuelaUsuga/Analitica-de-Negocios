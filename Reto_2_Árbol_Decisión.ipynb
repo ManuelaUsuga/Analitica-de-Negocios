{
  "nbformat": 4,
  "nbformat_minor": 0,
  "metadata": {
    "colab": {
      "provenance": [],
      "authorship_tag": "ABX9TyMnlp9tbzm7XmLjENil2sZe",
      "include_colab_link": true
    },
    "kernelspec": {
      "name": "python3",
      "display_name": "Python 3"
    },
    "language_info": {
      "name": "python"
    }
  },
  "cells": [
    {
      "cell_type": "markdown",
      "metadata": {
        "id": "view-in-github",
        "colab_type": "text"
      },
      "source": [
        "<a href=\"https://colab.research.google.com/github/ManuelaUsuga/Analitica-de-Negocios/blob/main/Reto_2_%C3%81rbol_Decisi%C3%B3n.ipynb\" target=\"_parent\"><img src=\"https://colab.research.google.com/assets/colab-badge.svg\" alt=\"Open In Colab\"/></a>"
      ]
    },
    {
      "cell_type": "code",
      "execution_count": null,
      "metadata": {
        "id": "bJFKcjPUm-Uz"
      },
      "outputs": [],
      "source": []
    },
    {
      "cell_type": "markdown",
      "source": [
        "0. Se procede con las cargas de las librerias de trabajo"
      ],
      "metadata": {
        "id": "LTP9M21_o_fW"
      }
    },
    {
      "cell_type": "code",
      "source": [
        "#Librerias Cientificas\n",
        "import numpy as np\n",
        "import pandas as pd\n",
        "\n",
        "#Librerias Árbol\n",
        "from sklearn.tree import DecisionTreeClassifier\n",
        "from sklearn.metrics import confusion_matrix\n",
        "\n",
        "#Conectar al drive => PARA NO TENER QUE SUBIR EL EXCEL several times\n",
        "from google.colab import drive\n",
        "drive.mount('/content/drive')"
      ],
      "metadata": {
        "colab": {
          "base_uri": "https://localhost:8080/"
        },
        "id": "RBF2iMPRpCaf",
        "outputId": "1b35f797-693b-443b-a1da-44ebf1286cdd"
      },
      "execution_count": null,
      "outputs": [
        {
          "output_type": "stream",
          "name": "stdout",
          "text": [
            "Mounted at /content/drive\n"
          ]
        }
      ]
    },
    {
      "cell_type": "markdown",
      "source": [
        "1. Procede con la carga de los datos"
      ],
      "metadata": {
        "id": "nwfta7tupbdN"
      }
    },
    {
      "cell_type": "code",
      "source": [
        "nxl='/content/2. CollegeAdmisions_Int_M.xlsx'\n",
        "XDB=pd.read_excel(nxl,sheet_name=0) #College_Admissions\n",
        "XDB=XDB.dropna() #Elimina datos vacíos\n",
        "\n",
        "#Seleccionar las variables que queremos\n",
        "XD=XDB[['Edu_Parent1', 'Edu_Parent2', 'Gender', 'White', 'Asian', 'HSGPA', 'SAT/ACT']]\n",
        "yd=XDB[['Admitted']]\n",
        "\n",
        "\n",
        "\n"
      ],
      "metadata": {
        "id": "IRpFuSeGpcy4"
      },
      "execution_count": null,
      "outputs": []
    },
    {
      "cell_type": "markdown",
      "source": [
        "2. Convertir a una variable categórica numérica"
      ],
      "metadata": {
        "id": "INNw7X8gwX1o"
      }
    },
    {
      "cell_type": "code",
      "source": [
        "XD['Gender']=XD['Gender'].astype('category').cat.codes #Para cuando una variable está en letras, pasar a #\n",
        "\n",
        "yd['Admitted']=yd['Admitted'].astype('category').cat.codes"
      ],
      "metadata": {
        "colab": {
          "base_uri": "https://localhost:8080/"
        },
        "id": "RQtUpeuMwiUE",
        "outputId": "bc441881-5881-4dd0-dfeb-95f9c2414de9"
      },
      "execution_count": null,
      "outputs": [
        {
          "output_type": "stream",
          "name": "stderr",
          "text": [
            "<ipython-input-9-f3dc0868055b>:1: SettingWithCopyWarning: \n",
            "A value is trying to be set on a copy of a slice from a DataFrame.\n",
            "Try using .loc[row_indexer,col_indexer] = value instead\n",
            "\n",
            "See the caveats in the documentation: https://pandas.pydata.org/pandas-docs/stable/user_guide/indexing.html#returning-a-view-versus-a-copy\n",
            "  XD['Gender']=XD['Gender'].astype('category').cat.codes #Para cuando una variable está en letras, pasar a #\n",
            "<ipython-input-9-f3dc0868055b>:3: SettingWithCopyWarning: \n",
            "A value is trying to be set on a copy of a slice from a DataFrame.\n",
            "Try using .loc[row_indexer,col_indexer] = value instead\n",
            "\n",
            "See the caveats in the documentation: https://pandas.pydata.org/pandas-docs/stable/user_guide/indexing.html#returning-a-view-versus-a-copy\n",
            "  yd['Admitted']=yd['Admitted'].astype('category').cat.codes\n"
          ]
        }
      ]
    },
    {
      "cell_type": "markdown",
      "source": [
        "3. Se procede a la implementación del modelo con un máximo de 4 niveles de análisis."
      ],
      "metadata": {
        "id": "mQvG_K5yxWwo"
      }
    },
    {
      "cell_type": "code",
      "source": [
        "mar=DecisionTreeClassifier(criterion='gini', max_depth=4) #Modelo Árbol de Decisión / max depth= 4 variables, cuando son más de 4 es mucho para el modelo(complicado)\n",
        "mar.fit(XD, yd) #Establezca la relación entre variable de entrada y salida\n",
        "\n",
        "#Se procede con la gráfica\n",
        "from pydotplus import graph_from_dot_data #Me crea la gráfica\n",
        "from sklearn.tree import export_graphviz #Me exporta a PNG, JPEG, TIFF\n",
        "\n",
        "ve=['Edu_Parent1', 'Edu_Parent2', 'Gender', 'White', 'Asian', 'HSGPA', 'SAT/ACT'] #Nombres para el Árbol\n",
        "dot_data=export_graphviz(mar, feature_names=ve) #Crear el gráfico\n",
        "graph=graph_from_dot_data(dot_data) #Entre los dos se hace la gráfica\n",
        "graph.write_png('2.ÁrbolDecisión_MReto.png')"
      ],
      "metadata": {
        "colab": {
          "base_uri": "https://localhost:8080/"
        },
        "id": "HZy68CWBzTRl",
        "outputId": "48782194-2b95-4323-fa80-f5a5f57c0409"
      },
      "execution_count": null,
      "outputs": [
        {
          "output_type": "execute_result",
          "data": {
            "text/plain": [
              "True"
            ]
          },
          "metadata": {},
          "execution_count": 10
        }
      ]
    },
    {
      "cell_type": "markdown",
      "source": [
        "4. Se procede con el pronóstico de los solicitantes que no poseen Admitted"
      ],
      "metadata": {
        "id": "DChbqRwY132S"
      }
    },
    {
      "cell_type": "code",
      "source": [
        "#Pronóstico para cuando es una hoja aparte\n",
        "XDB0=pd.read_excel(nxl,sheet_name=1) #Pronóstico\n",
        "\n",
        "XDB0['Gender']=XDB0['Gender'].astype('category').cat.codes #Para cuando una variable está en letras, pasar a #\n",
        "\n",
        "#No utilizar dropna porque el punto es encontrar aquellos datos sin aprobación\n",
        "XDB0.head()\n",
        "\n",
        "XD0=XDB0[['Edu_Parent1', 'Edu_Parent2', 'Gender', 'White', 'Asian', 'HSGPA', 'SAT/ACT']]\n",
        "yd0=mar.predict(XD0)\n",
        "\n",
        "#Se crea el informe en excel\n",
        "df=pd.DataFrame(np.column_stack((XD0,yd0)))\n",
        "df.columns=['Edu_Parent1', 'Edu_Parent2', 'Gender', 'White', 'Asian', 'HSGPA', 'SAT/ACT', 'Admitted']\n",
        "df.to_excel(\"Evaluación Admitidos.xlsx\")"
      ],
      "metadata": {
        "id": "A5bcG_Dz3nTT"
      },
      "execution_count": null,
      "outputs": []
    },
    {
      "cell_type": "markdown",
      "source": [
        "5. Evaluar el comportamiento del modelo"
      ],
      "metadata": {
        "id": "ZLovhhnKAEFO"
      }
    },
    {
      "cell_type": "code",
      "source": [
        "ydp=mar.predict(XD) #Pronóstico sobre la base de datos original\n",
        "cm=confusion_matrix(yd,ydp)\n",
        "print(cm)\n",
        "print(\"La matriz de confusión es:\\n\", cm)\n",
        "\n",
        "VN=cm[0,0];FP=cm[0,1];FN=cm[1,0];VP=cm[1,1]\n",
        "\n",
        "Exactitud=(VP+VN)/(VP+VN+FP+FN)\n",
        "print(\"La exactitud es: \", Exactitud)\n",
        "\n",
        "Sensibilidad=VP/(VP+FN)\n",
        "print(\"La sensibilidad es: \", Sensibilidad)\n",
        "\n",
        "Especificidad=VN/(VN+FP)\n",
        "print(\"La especificidad es: \", Especificidad)\n",
        "\n",
        "Precision=VP/(VP+FP)\n",
        "print(\"La precisión es: \", Precision)\n",
        "\n",
        "TasaError=(FP+FN)/(VP+VN+FP+FN)\n",
        "print(\"La tasa de error es: \", TasaError)\n",
        "\n",
        "PredNeg=VN/(VN+FN)\n",
        "print(\"La tasa de falsos negativos es: \", PredNeg)\n",
        "\n",
        "PredPos=VP/(VP+FP)\n",
        "print(\"La tasa de falsos positivos es: \", PredPos)"
      ],
      "metadata": {
        "colab": {
          "base_uri": "https://localhost:8080/"
        },
        "id": "vMCnVXlLAJ0j",
        "outputId": "35f53f53-0d20-4c6e-f4af-5f6420710b08"
      },
      "execution_count": null,
      "outputs": [
        {
          "output_type": "stream",
          "name": "stdout",
          "text": [
            "[[  20  205]\n",
            " [   2 1301]]\n",
            "La matriz de confusión es:\n",
            " [[  20  205]\n",
            " [   2 1301]]\n",
            "La exactitud es:  0.8645287958115183\n",
            "La sensibilidad es:  0.9984650805832693\n",
            "La especificidad es:  0.08888888888888889\n",
            "La precisión es:  0.8638778220451527\n",
            "La tasa de error es:  0.1354712041884817\n",
            "La tasa de falsos negativos es:  0.9090909090909091\n",
            "La tasa de falsos positivos es:  0.8638778220451527\n"
          ]
        }
      ]
    },
    {
      "cell_type": "markdown",
      "source": [
        "**Descripción de los datos**\n",
        "\n",
        "De acuerdo con la base de datos 'College Admissions', esta posse un total de 17.339 datos totales divididos en 12.016 Admitidos y 5.323 No admitidos por la universidad. Cada uno de los aplicantes estará descrito en función de 4 variables:\n",
        "\n",
        "**Edu_Parent1:** Representa el nivel educativo alcanzado por el primer padre o tutor del aplicante. Se clasifica en:\n",
        "\n",
        "1: Sin escuela preparatoria.\n",
        "\n",
        "2: Escuela preparatoria trunca.\n",
        "\n",
        "3: Graduado de la escuela preparatoria.\n",
        "\n",
        "\n",
        "**Edu_Parent2:** Indica el nivel educativo alcanzado por el segundo padre o tutor del aplicante. Se clasifica en:\n",
        "\n",
        "4: Universidad trunca.\n",
        "\n",
        "6: Graduado universitario en una carrera de 4 años.\n",
        "\n",
        "7: Posgrado.\n",
        "\n",
        "\n",
        "**Gender:** Identifica el sexo del aplicante, utilizando las siguientes categorías:\n",
        "\n",
        "1: Hombre.\n",
        "0: Mujer.\n",
        "\n",
        "**White:** Indica si el aplicante se identifica como blanco o no:\n",
        "\n",
        "1: Blanco.\n",
        "\n",
        "0: No blanco.\n",
        "\n",
        "\n",
        "**Asian:** Indica si el aplicante se identifica como asiático o no:\n",
        "\n",
        "1: Asiático.\n",
        "\n",
        "0: No asiático.\n",
        "\n",
        "**HSGPA:** GPA ponderado de la escuela preparatoria, con un rango de 0 a 5. Representa el rendimiento académico del estudiante en la escuela preparatoria y es una variable numérica continua.\n",
        "\n",
        "**SAT/ACT:** La variable SAT/ACT representa la puntuación más alta obtenida en los exámenes SAT o ACT por cada aplicante. Si el aplicante tomó el ACT en lugar del SAT, su puntuación se convierte a la escala del SAT, específicamente en la puntuación equivalente para las secciones de inglés y matemáticas.\n"
      ],
      "metadata": {
        "id": "7VCFUgacCDZw"
      }
    },
    {
      "cell_type": "markdown",
      "source": [
        "**Análisis de resultados**\n",
        "\n",
        "Los resultados del modelo de clasificación pueden evaluarse a partir de la matriz de confusión, donde destacan los Verdaderos Negativos (VN) = 1301, que representan los casos correctamente identificados como negativos, y los Verdaderos Positivos (VP) = 20, que corresponden a los casos correctamente clasificados como positivos.\n",
        "\n",
        "El modelo alcanza una Exactitud del 81%, lo que indica que tiene una buena capacidad predictiva general. Sin embargo, su Sensibilidad del 62% sugiere que el modelo tiene dificultades para identificar correctamente todos los casos positivos.\n",
        "\n",
        "Por otro lado, su Especificidad del 89% indica que es bastante eficaz en la detección de negativos, con una Precisión del 72%, lo que significa que la mayoría de las predicciones positivas son correctas.\n",
        "\n",
        "No obstante, la tasa de falsos negativos del 84.38% es alta, lo que indica que el modelo no está identificando una cantidad significativa de casos positivos. A su vez, la tasa de falsos positivos del 72.02% muestra que el error en la predicción de positivos es considerable, lo que podría afectar su utilidad en ciertas aplicaciones.\n",
        "\n",
        "El total de muestras es 1,528, con una distribución de [225, 1303], lo que indica que 1,303 personas fueron admitidas.\n",
        "\n",
        "El árbol de decisión cuenta con 7 nodos puros, que son aquellos en los que todos los datos pertenecen a una sola clase y, por lo tanto, su índice de Gini es 0.0.\n",
        "\n",
        "Un ejemplo de esto es el **nodo con samples = 5, value = [0,5]**, que representa a cinco estudiantes que no fueron admitidos en la universidad. Para llegar a este nodo, el árbol sigue una secuencia de decisiones desde la raíz:\n",
        "\n",
        "1. Se clasifica a los estudiantes con un HSGPA menor o igual a 2.98, lo que los ubica en la rama izquierda del árbol.\n",
        "2. Dentro de este grupo, se considera el puntaje SAT/ACT, donde aquellos con una puntuación menor o igual a 1185.0 continúan por otra división.\n",
        "3. Finalmente, dentro de esta segmentación, los estudiantes con HSGPA menor o igual a 2.92 llegan a un nodo puro donde todas las observaciones pertenecen a la categoría de no admitidos.\n",
        "\n",
        "Observando el árbol, identificamos los siguientes nodos puros:\n",
        "\n",
        "Nodo con samples = 1, value = [0,1]\n",
        "\n",
        "Nodo con samples = 1, value = [0,1]\n",
        "\n",
        "Nodo con samples = 1, value = [1,0]\n",
        "\n",
        "Nodo con samples = 5, value = [0,5]\n",
        "\n",
        "Nodo con samples = 4, value = [4,0]\n",
        "\n",
        "Nodo con samples = 1, value = [0,1]\n",
        "\n",
        "Nodo con samples = 69, value = [0,69]\n",
        "\n",
        "Total de nodos puros: 7.\n",
        "\n",
        "Estos nodos indican que el árbol de decisión logró clasificar completamente 7 subconjuntos de datos sin ambigüedad.\n",
        "\n"
      ],
      "metadata": {
        "id": "JOtYPiCDGakf"
      }
    }
  ]
}