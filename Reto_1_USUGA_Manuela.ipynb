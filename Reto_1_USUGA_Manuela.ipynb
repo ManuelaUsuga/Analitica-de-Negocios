{
  "nbformat": 4,
  "nbformat_minor": 0,
  "metadata": {
    "colab": {
      "provenance": [],
      "authorship_tag": "ABX9TyOYJaQzzSW5c3OxhhUAaiRx",
      "include_colab_link": true
    },
    "kernelspec": {
      "name": "python3",
      "display_name": "Python 3"
    },
    "language_info": {
      "name": "python"
    }
  },
  "cells": [
    {
      "cell_type": "markdown",
      "metadata": {
        "id": "view-in-github",
        "colab_type": "text"
      },
      "source": [
        "<a href=\"https://colab.research.google.com/github/ManuelaUsuga/Analitica-de-Negocios/blob/main/Reto_1_USUGA_Manuela.ipynb\" target=\"_parent\"><img src=\"https://colab.research.google.com/assets/colab-badge.svg\" alt=\"Open In Colab\"/></a>"
      ]
    },
    {
      "cell_type": "markdown",
      "source": [
        "Reto #1 - Manuela Usuga\n",
        "**Modelo Naive Bayes**\n",
        "0. Se procede con la carga de las librerias de trabajo"
      ],
      "metadata": {
        "id": "uYcrkS7ot-CZ"
      }
    },
    {
      "cell_type": "code",
      "source": [
        "import numpy as np #Funciones numéricas transformación y análisis de datos\n",
        "import pandas as pd #Conectar el sistema con los datos"
      ],
      "metadata": {
        "id": "34uvhl9buFNU"
      },
      "execution_count": null,
      "outputs": []
    },
    {
      "cell_type": "markdown",
      "source": [
        "1. Se procede con la carga de la base de datos"
      ],
      "metadata": {
        "id": "Ir6gkf3MueeY"
      }
    },
    {
      "cell_type": "code",
      "source": [
        "Datos='/content/1. BD1_Longitudinal Survey_Int.xlsx' #Se le da nombre a la base de datos.\n",
        "Hoja=pd.read_excel(Datos,sheet_name=0) #Para sacar una hoja específica\n",
        "\n",
        "#Se cargan las variables de interés\n",
        "Hoja=Hoja[['Age', 'Mother_Edu', 'Father_Edu', 'FamilySize', 'Self_Esteem', 'Height', 'Weight', 'Income', 'Urban']] #Recuerda poner tambien la variable de referencia"
      ],
      "metadata": {
        "collapsed": true,
        "id": "v4AFFyFTzbME"
      },
      "execution_count": null,
      "outputs": []
    },
    {
      "cell_type": "markdown",
      "source": [
        "1.1 Importante limpiar los espacios Nan 💡"
      ],
      "metadata": {
        "id": "TEgNt1O1CUIf"
      }
    },
    {
      "cell_type": "code",
      "source": [
        "Hoja=Hoja.dropna()"
      ],
      "metadata": {
        "id": "jLbZbGH6CTIO"
      },
      "execution_count": null,
      "outputs": []
    },
    {
      "cell_type": "code",
      "source": [
        "#Separamos las variables por Entrada y Salida\n",
        "XD=Hoja[['Age', 'Mother_Edu', 'Father_Edu', 'FamilySize', 'Self_Esteem', 'Height', 'Weight', 'Income']]\n",
        "yd=Hoja[['Urban']] #Variable de referencia"
      ],
      "metadata": {
        "id": "y8ce5m_JBnNY"
      },
      "execution_count": null,
      "outputs": []
    },
    {
      "cell_type": "markdown",
      "source": [
        "2. Implementamos el modelo Naive Bayes"
      ],
      "metadata": {
        "id": "L5_U_Q8OASGV"
      }
    },
    {
      "cell_type": "code",
      "source": [
        "#P1 - Para sacar el total de los datos limpios\n",
        "ndatos = len(Hoja)\n",
        "print('El total de los datos es', ndatos)\n",
        "\n",
        "#Para traer la biblioteca\n",
        "from sklearn.naive_bayes import GaussianNB\n",
        "\n",
        "mnb=GaussianNB()\n",
        "mnb.fit(XD,yd)\n",
        "u2=mnb.theta_\n",
        "var2=mnb.var_\n",
        "\n",
        "std2=np.sqrt(var2)\n",
        "print('La media es\\n', u2)\n",
        "print('La desviación estándar es\\n', std2)\n",
        "print('El limite superior es:\\n',u2+std2)\n",
        "print('El limite inferior es:\\n',u2-std2)\n",
        "\n",
        "ct = mnb.class_count_\n",
        "print(\"Como están separados los datos\", ct)\n",
        "print(\"El total de datos es:\", len(XD))\n",
        "print(\"Los datos porcentualmente están divididos:\", ct/len(XD))\n",
        "\n",
        "#Para evaluar un solo solicitante\n",
        "XS=[[34,12,15,2,24,69,160,48000]]\n",
        "mnb.predict(XS) #El 1 significa\n",
        "\n"
      ],
      "metadata": {
        "colab": {
          "base_uri": "https://localhost:8080/"
        },
        "id": "9YE9iFuDAn2i",
        "outputId": "ea870521-cdc7-499b-da71-e3b4b1aea2d6"
      },
      "execution_count": null,
      "outputs": [
        {
          "output_type": "stream",
          "name": "stdout",
          "text": [
            "El total de los datos es 5948\n",
            "La media es\n",
            " [[1.83640032e+01 1.07312349e+01 1.02711864e+01 4.73930589e+00\n",
            "  2.19951574e+01 6.72429379e+01 1.49003228e+02 3.01248854e+04]\n",
            " [1.83618603e+01 1.11613931e+01 1.12331705e+01 4.68103631e+00\n",
            "  2.25744319e+01 6.69116585e+01 1.44750903e+02 3.32736742e+04]]\n",
            "La desviación estándar es\n",
            " [[2.47260545e+00 3.15661127e+00 3.88837565e+00 2.55226748e+00\n",
            "  4.21650807e+00 4.08228636e+00 3.03486350e+01 3.16482374e+04]\n",
            " [2.47344359e+00 3.40066236e+00 4.11549881e+00 2.44205851e+00\n",
            "  4.19763081e+00 4.20193102e+00 3.00285301e+01 3.60897302e+04]]\n",
            "El limite superior es:\n",
            " [[2.08366087e+01 1.38878461e+01 1.41595621e+01 7.29157338e+00\n",
            "  2.62116655e+01 7.13252242e+01 1.79351863e+02 6.17731228e+04]\n",
            " [2.08353039e+01 1.45620554e+01 1.53486693e+01 7.12309482e+00\n",
            "  2.67720628e+01 7.11135895e+01 1.74779433e+02 6.93634044e+04]]\n",
            "El limite inferior es:\n",
            " [[ 1.58913978e+01  7.57462359e+00  6.38281079e+00  2.18703841e+00\n",
            "   1.77786493e+01  6.31606515e+01  1.18654593e+02 -1.52335198e+03]\n",
            " [ 1.58884167e+01  7.76073072e+00  7.11767172e+00  2.23897780e+00\n",
            "   1.83768011e+01  6.27097275e+01  1.14722372e+02 -2.81605593e+03]]\n",
            "Como están separados los datos [1239. 4709.]\n",
            "El total de datos es: 5948\n",
            "Los datos porcentualmente están divididos: [0.20830531 0.79169469]\n"
          ]
        },
        {
          "output_type": "stream",
          "name": "stderr",
          "text": [
            "/usr/local/lib/python3.11/dist-packages/sklearn/utils/validation.py:1408: DataConversionWarning: A column-vector y was passed when a 1d array was expected. Please change the shape of y to (n_samples, ), for example using ravel().\n",
            "  y = column_or_1d(y, warn=True)\n",
            "/usr/local/lib/python3.11/dist-packages/sklearn/utils/validation.py:2739: UserWarning: X does not have valid feature names, but GaussianNB was fitted with feature names\n",
            "  warnings.warn(\n"
          ]
        },
        {
          "output_type": "execute_result",
          "data": {
            "text/plain": [
              "array([1.])"
            ]
          },
          "metadata": {},
          "execution_count": 5
        }
      ]
    },
    {
      "cell_type": "markdown",
      "source": [
        "**Analisis de resultados Naive Bayes**\n",
        "\n",
        "De acuerdo con los resultados arrojados por el modelo, el número total de los datos es de 5948. Los datos porcentualmente están divididos en 20.83% para las personas que viven en zonas no urbanas, y del 79.16% para aquellas personas que residen en zonas urbanas.\n",
        "\n",
        "Para las variables, la Edad tiene un intervalo de entre limite superior 20 años y limite inferior de 15 años para aquellos que viven en area rural y urbana.\n",
        "\n",
        "la Altura tiene un intervalo de entre limite superior 71 y limite inferior 63 pulgadas para aquellos que viven en area rural y limite superior 71 y limite inferior 62 pulgadas para area urbana.\n",
        "\n",
        "la Peso tiene un intervalo de entre limite superior 179 y limite inferior 118 libras para area rural. Adicionalmente, de limite inferior 174 y limite superior 114 libras para aquellos que viven en area urbana.\n",
        "\n",
        "Una persona con 34 años de edad, con una madre con 12 años de eduacion y un padre con 15 años de educación, con 2 miembros de familia, un puntaje de autoestima de 69 y una altura de 160 pulgadas y un ingreso de 48,000; es un individuo que reside en area urbana."
      ],
      "metadata": {
        "id": "oeU9cHqYO6ME"
      }
    },
    {
      "cell_type": "code",
      "source": [
        "import pandas as pd\n",
        "\n",
        "# Obtener las predicciones del modelo\n",
        "ydp = mnb.predict(XD)\n",
        "\n",
        "# Crear un DataFrame con las predicciones y la variable 'Weight'\n",
        "predicciones_df = pd.DataFrame({'Urban_pred': ydp, 'Weight': Hoja['Weight']})\n",
        "\n",
        "# Filtrar los datos para la categoría 0 de 'Urban_pred'\n",
        "categoria_0_pred = predicciones_df[predicciones_df['Urban_pred'] == 0]\n",
        "\n",
        "# Obtener el valor mínimo de 'Weight' para la categoría 0 predicha\n",
        "valor_minimo_pred = categoria_0_pred['Weight'].min()\n",
        "\n",
        "# Imprimir el valor mínimo\n",
        "print(\"El valor mínimo de 'Weight' para la categoría 0 (predicciones) es:\", valor_minimo_pred)"
      ],
      "metadata": {
        "colab": {
          "base_uri": "https://localhost:8080/"
        },
        "id": "drcHhiUK2qJN",
        "outputId": "4b93838a-9d00-49e5-95ef-a5d4480bd452"
      },
      "execution_count": null,
      "outputs": [
        {
          "output_type": "stream",
          "name": "stdout",
          "text": [
            "El valor mínimo de 'Weight' para la categoría 0 (predicciones) es: 140.0\n"
          ]
        }
      ]
    },
    {
      "cell_type": "markdown",
      "source": [
        "**Matriz de confusión**\n",
        "\n",
        "Se procede con la evaluación (Desempeño del modelo)\n"
      ],
      "metadata": {
        "id": "Jtcp_SnzPCkA"
      }
    },
    {
      "cell_type": "code",
      "source": [
        "ydp=mnb.predict(XD) #Hazme el pronostico de los positivos y negativos de Urban\n",
        "from sklearn.metrics import confusion_matrix #Para sacar de biblioteca\n",
        "cm=confusion_matrix(yd,ydp)\n",
        "print(cm) #VP, FP, VN, VP\n",
        "\n",
        "VN=cm[0,0];FP=cm[0,1];FN=cm[1,0];VP=cm[1,1]\n",
        "\n",
        "#Exactitud = VN + VP / Total de datos #SIEMPRE\n",
        "Ex=(VN+VP)/ (VN+VP+FN+FP) #Desempeño general\n",
        "print(\"La exactitud alcanzada por el modelo es\" , Ex)\n",
        "\n",
        "#Tasa de error = FN + FP / Total de los datos\n",
        "Te=(FN+FP) / (VN+VP+FN+FP)\n",
        "print(\"La tasa de error es\" , Te)\n",
        "\n",
        "#Sensibilidad\n",
        "Sen = VP/(VP+FN)\n",
        "print(\"La sensibilidad del modelo es de:\", Sen)\n",
        "\n",
        "#Especificidad = (VN)/(FP+VN)\n",
        "Especificidad = (VN)/(FP+VN)\n",
        "print(\"La especificidad del modelo es de:\", Especificidad)\n",
        "\n",
        "#Precisión\n",
        "Precision=(VP)/(VP+FP) #Comportamiento general identificando preaprobados\n",
        "print(\"La precisión del modelo es de:\", Precision)\n",
        "\n",
        "#Precisión negativa\n",
        "Precision_neg=(VN)/(VN+FN)\n",
        "print(\"La precisión negativa del modelo es de:\", Precision_neg)"
      ],
      "metadata": {
        "colab": {
          "base_uri": "https://localhost:8080/"
        },
        "id": "mzntkt6CPFpk",
        "outputId": "63e82eab-370e-4818-fc62-4a43c58ddbaa"
      },
      "execution_count": null,
      "outputs": [
        {
          "output_type": "stream",
          "name": "stdout",
          "text": [
            "[[   3 1236]\n",
            " [   8 4701]]\n",
            "La exactitud alcanzada por el modelo es 0.7908540685944856\n",
            "La tasa de error es 0.20914593140551446\n",
            "La sensibilidad del modelo es de: 0.9983011255043533\n",
            "La especificidad del modelo es de: 0.002421307506053269\n",
            "La precisión del modelo es de: 0.7918140474987367\n",
            "La precisión negativa del modelo es de: 0.2727272727272727\n"
          ]
        }
      ]
    },
    {
      "cell_type": "markdown",
      "source": [
        "El modelo alcanzó una exactitud del 79.09 %, lo que indica que, en general, clasifica correctamente la mayoría de los casos. Sin embargo, la tasa de error del 20.91 % sugiere que todavía hay una proporción significativa de predicciones incorrectas. La sensibilidad del modelo es de 99.83 %, lo que demuestra su alta capacidad para identificar correctamente los casos positivos. No obstante, la especificidad es baja (0.24 %), lo que significa que el modelo tiene dificultades para identificar correctamente los casos negativos, generando una gran cantidad de falsos positivos. Además, la precisión del modelo es del 79.18 %, lo que implica que un porcentaje considerable de las predicciones positivas son correctas. Finalmente, la precisión negativa es de 27.27 %, lo que sugiere que la capacidad del modelo para predecir correctamente los casos negativos es muy limitada. Esto indica un desequilibrio en el desempeño del modelo, favoreciendo la identificación de los casos positivos a costa de los negativos."
      ],
      "metadata": {
        "id": "v8Rb-I0Nzhw7"
      }
    }
  ]
}